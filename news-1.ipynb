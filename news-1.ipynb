{
 "cells": [
  {
   "cell_type": "code",
   "execution_count": 66,
   "metadata": {},
   "outputs": [
    {
     "name": "stdout",
     "output_type": "stream",
     "text": [
      "Article's Text:\n",
      "Image copyright Aston Martin Image caption The Aston Martin DB11 was introduced in 2016\n",
      "\n",
      "Luxury carmaker Aston Martin says it may float on the London stock market, completing a turnaround that has seen the firm boost sales and profits.\n",
      "\n",
      "The listing would be the first by a UK carmaker for years, following the sale of brands such as Jaguar, Bentley and Rolls-Royce to foreign owners.\n",
      "\n",
      "Analysts say the firm, which also on Wednesday posted half-year profits of £42m, would be worth up to £5bn.\n",
      "\n",
      "Its main shareholders are an Italian investment fund and Kuwaiti investors.\n",
      "\n",
      "The 105-year-old carmaker said in its announcement that it would initially float a minimum of 25% of the company.\n",
      "\n",
      "Chief executive Andy Palmer told the BBC that some shareholders would \"cash out\" their investment. He described the plans as a \"key milestone\" in the history of the company, and said a luxury brand like Aston Martin was \"impervious\" to any trading uncertainties caused by Brexit.\n",
      "\n",
      "Image copyright Aston Martin Image caption Sean Connery - with his Aston Martin - as James Bond in 'Goldfinger'\n",
      "\n",
      "Despite an illustrious history and a brand name synonymous with 007 films, Aston Martin has struggled for decades to make a profit. But under Mr Palmer, a former Nissan executive, the company has been broadening its product range and has moved into new areas.\n",
      "\n",
      "The company is involved in projects to build an electric flying car, luxury homes in the US, and even a personal submarine. \"We are a luxury company and not just a car company,\" Mr Palmer told Radio 4's Today programme.\n",
      "\n",
      "It expects full-year sales for 2018 to rise to between 6,200 and 6,400 units, and in the medium-term it aims to build nearly 10,000 in the 2020 calendar year.\n",
      "\n",
      "Part of the turnaround strategy strategy involved targeting female buyers - no easy task given the company has sold fewer than 4,000 cars to women in its 105-year history.\n",
      "\n",
      "Aston Martin must be less dependent on a narrow portfolio and one type of customer, Mr Palmer says.\n",
      "\n",
      "He said he was unconcerned that the stock market listing would come ahead of Brexit and possible trading uncertainties. \"The benefit of being a luxury company is we are relatively impervious to those kind of changes,\" he told the BBC.\n",
      "\n",
      "Aston Martin exports 25% of its car to the European Union. \"We'd probably benefit from a weaker pound,\" he said. However, he said the carmaker was increasing its stockpile of engines, made in Germany, from three to five days \"just to live a little bit of insulation\" against Brexit disruption.\n",
      "\n",
      "Image copyright Aston Martin Image caption Aston Martin has joined a consortium that includes jet engine maker Rolls-Royce on a \"flying car\" project\n",
      "\n",
      "Alongside the flotation announcement, Aston Martin also disclosed its first-half results, reporting an 8% year-on-year sales increase to £445m for the six months ended 30 June.\n",
      "\n",
      "It said the performance was driven by its consulting business as well as increased revenue from sales of its special edition vehicles, including the Vanquish Zagato family and DB4 GT Continuation models.\n",
      "\n",
      "Mr Palmer said: \"Today's results show that we have continued to deliver sustainable growth, margins and value for our shareholders whilst launching three new models and variants in the first half of the year.\"\n",
      "\n",
      "As part of the restructuring, Aston Martin it to open a new factory at St Athan, in Wales, in 2019.\n",
      "\n",
      "Hargreaves Lansdown analyst Laith Khalaf said Aston Martin's stock market value could put it near the top of the FTSE 250 share index.\n",
      "\n",
      "He said the success of Ferrari's floatation in New York in 2015 boded well for the UK company's plans and underlined investors' appetite for such luxury brands.\n",
      "\n",
      "But Mr Khalaf added: \"It's important for potential investors to concentrate on the company's financial prospects and not to get carried away by the brand.\"\n",
      "n\n",
      "Article's Summary:\n",
      "Image copyright Aston Martin Image caption The Aston Martin DB11 was introduced in 2016Luxury carmaker Aston Martin says it may float on the London stock market, completing a turnaround that has seen the firm boost sales and profits.\n",
      "Image copyright Aston Martin Image caption Sean Connery - with his Aston Martin - as James Bond in 'Goldfinger'Despite an illustrious history and a brand name synonymous with 007 films, Aston Martin has struggled for decades to make a profit.\n",
      "Aston Martin must be less dependent on a narrow portfolio and one type of customer, Mr Palmer says.\n",
      "Image copyright Aston Martin Image caption Aston Martin has joined a consortium that includes jet engine maker Rolls-Royce on a \"flying car\" projectAlongside the flotation announcement, Aston Martin also disclosed its first-half results, reporting an 8% year-on-year sales increase to £445m for the six months ended 30 June.\n",
      "As part of the restructuring, Aston Martin it to open a new factory at St Athan, in Wales, in 2019.\n",
      "n\n",
      "Article's Keywords:\n",
      "['palmer', 'luxury', 'market', 'london', 'martin', 'aston', 'car', 'carmaker', 'sales', 'stock', 'image', 'shares', 'company', 'sell', 'mr']\n"
     ]
    }
   ],
   "source": [
    "import nltk\n",
    "from newspaper import Article\n",
    "url = \"https://www.bbc.co.uk/news/business-45340115\"\n",
    "bbc_article = Article(url,language='en')\n",
    "bbc_article.download()\n",
    "bbc_article.parse()\n",
    "bbc_article.nlp()\n",
    "print(\"Article's Text:\")                 \n",
    "print(bbc_article.text)\n",
    "print(\"n\")\n",
    "print(\"Article's Summary:\")                \n",
    "print(bbc_article.summary)\n",
    "print(\"n\") \n",
    "print(\"Article's Keywords:\")               \n",
    "print(bbc_article.keywords)\n",
    "\n",
    "     "
   ]
  },
  {
   "cell_type": "code",
   "execution_count": 51,
   "metadata": {},
   "outputs": [],
   "source": [
    "import requests\n",
    "from scrapy.http import TextResponse"
   ]
  },
  {
   "cell_type": "code",
   "execution_count": 69,
   "metadata": {},
   "outputs": [
    {
     "ename": "TypeError",
     "evalue": "__init__() got an unexpected keyword argument 'language'",
     "output_type": "error",
     "traceback": [
      "\u001b[1;31m---------------------------------------------------------------------------\u001b[0m",
      "\u001b[1;31mTypeError\u001b[0m                                 Traceback (most recent call last)",
      "\u001b[1;32m<ipython-input-69-9b2244014451>\u001b[0m in \u001b[0;36m<module>\u001b[1;34m()\u001b[0m\n\u001b[0;32m      3\u001b[0m \u001b[0muser_agent\u001b[0m \u001b[1;33m=\u001b[0m \u001b[1;33m{\u001b[0m\u001b[1;34m'User-Agent'\u001b[0m\u001b[1;33m:\u001b[0m \u001b[1;34m'Mozilla/5.0 (X11; Linux x86_64) AppleWebKit/537.36 (KHTML, like Gecko) Ubuntu Chromium/58: .0.3029.110 Chrome/58.0.3029.110 Safari/537.36'\u001b[0m\u001b[1;33m}\u001b[0m\u001b[1;33m\u001b[0m\u001b[0m\n\u001b[0;32m      4\u001b[0m \u001b[0mr\u001b[0m\u001b[1;33m=\u001b[0m\u001b[0mrequests\u001b[0m\u001b[1;33m.\u001b[0m\u001b[0mget\u001b[0m\u001b[1;33m(\u001b[0m\u001b[0murl\u001b[0m\u001b[1;33m,\u001b[0m\u001b[0mheaders\u001b[0m\u001b[1;33m=\u001b[0m\u001b[0muser_agent\u001b[0m\u001b[1;33m)\u001b[0m\u001b[1;33m\u001b[0m\u001b[0m\n\u001b[1;32m----> 5\u001b[1;33m \u001b[0mresponse\u001b[0m\u001b[1;33m=\u001b[0m\u001b[0mTextResponse\u001b[0m\u001b[1;33m(\u001b[0m\u001b[0mr\u001b[0m\u001b[1;33m.\u001b[0m\u001b[0murl\u001b[0m\u001b[1;33m,\u001b[0m\u001b[0mbody\u001b[0m\u001b[1;33m=\u001b[0m\u001b[0mr\u001b[0m\u001b[1;33m.\u001b[0m\u001b[0mtext\u001b[0m\u001b[1;33m,\u001b[0m\u001b[0mencoding\u001b[0m\u001b[1;33m=\u001b[0m\u001b[1;34m'utf-8'\u001b[0m\u001b[1;33m,\u001b[0m\u001b[0mlanguage\u001b[0m\u001b[1;33m=\u001b[0m\u001b[1;34m'en'\u001b[0m\u001b[1;33m)\u001b[0m\u001b[1;33m\u001b[0m\u001b[0m\n\u001b[0m\u001b[0;32m      6\u001b[0m \u001b[0mprint\u001b[0m\u001b[1;33m(\u001b[0m\u001b[0murl\u001b[0m\u001b[1;33m)\u001b[0m\u001b[1;33m\u001b[0m\u001b[0m\n\u001b[0;32m      7\u001b[0m \u001b[0md\u001b[0m\u001b[1;33m=\u001b[0m\u001b[0mresponse\u001b[0m\u001b[1;33m.\u001b[0m\u001b[0mxpath\u001b[0m\u001b[1;33m(\u001b[0m\u001b[1;34m'//*[@id=\"asset-type-sty\"]//text()'\u001b[0m\u001b[1;33m)\u001b[0m\u001b[1;33m.\u001b[0m\u001b[0mextract\u001b[0m\u001b[1;33m(\u001b[0m\u001b[1;33m)\u001b[0m\u001b[1;33m\u001b[0m\u001b[0m\n",
      "\u001b[1;32mF:\\New folder (3)\\lib\\site-packages\\scrapy\\http\\response\\text.py\u001b[0m in \u001b[0;36m__init__\u001b[1;34m(self, *args, **kwargs)\u001b[0m\n\u001b[0;32m     29\u001b[0m         \u001b[0mself\u001b[0m\u001b[1;33m.\u001b[0m\u001b[0m_cached_ubody\u001b[0m \u001b[1;33m=\u001b[0m \u001b[1;32mNone\u001b[0m\u001b[1;33m\u001b[0m\u001b[0m\n\u001b[0;32m     30\u001b[0m         \u001b[0mself\u001b[0m\u001b[1;33m.\u001b[0m\u001b[0m_cached_selector\u001b[0m \u001b[1;33m=\u001b[0m \u001b[1;32mNone\u001b[0m\u001b[1;33m\u001b[0m\u001b[0m\n\u001b[1;32m---> 31\u001b[1;33m         \u001b[0msuper\u001b[0m\u001b[1;33m(\u001b[0m\u001b[0mTextResponse\u001b[0m\u001b[1;33m,\u001b[0m \u001b[0mself\u001b[0m\u001b[1;33m)\u001b[0m\u001b[1;33m.\u001b[0m\u001b[0m__init__\u001b[0m\u001b[1;33m(\u001b[0m\u001b[1;33m*\u001b[0m\u001b[0margs\u001b[0m\u001b[1;33m,\u001b[0m \u001b[1;33m**\u001b[0m\u001b[0mkwargs\u001b[0m\u001b[1;33m)\u001b[0m\u001b[1;33m\u001b[0m\u001b[0m\n\u001b[0m\u001b[0;32m     32\u001b[0m \u001b[1;33m\u001b[0m\u001b[0m\n\u001b[0;32m     33\u001b[0m     \u001b[1;32mdef\u001b[0m \u001b[0m_set_url\u001b[0m\u001b[1;33m(\u001b[0m\u001b[0mself\u001b[0m\u001b[1;33m,\u001b[0m \u001b[0murl\u001b[0m\u001b[1;33m)\u001b[0m\u001b[1;33m:\u001b[0m\u001b[1;33m\u001b[0m\u001b[0m\n",
      "\u001b[1;31mTypeError\u001b[0m: __init__() got an unexpected keyword argument 'language'"
     ]
    }
   ],
   "source": [
    "url=\"https://www.bbc.co.uk\"\n",
    "\n",
    "user_agent = {'User-Agent': 'Mozilla/5.0 (X11; Linux x86_64) AppleWebKit/537.36 (KHTML, like Gecko) Ubuntu Chromium/58: .0.3029.110 Chrome/58.0.3029.110 Safari/537.36'}\n",
    "r=requests.get(url,headers=user_agent)\n",
    "response=TextResponse(r.url,body=r.text,encoding='utf-8')\n",
    "\n",
    "print(url)\n",
    "d=response.xpath('//*[@id=\"asset-type-sty\"]//text()').extract()\n",
    "print(d)"
   ]
  },
  {
   "cell_type": "code",
   "execution_count": 20,
   "metadata": {},
   "outputs": [
    {
     "name": "stdout",
     "output_type": "stream",
     "text": [
      "[nltk_data] Downloading package punkt to\n",
      "[nltk_data]     C:\\Users\\Smile\\AppData\\Roaming\\nltk_data...\n",
      "[nltk_data]   Unzipping tokenizers\\punkt.zip.\n"
     ]
    },
    {
     "data": {
      "text/plain": [
       "True"
      ]
     },
     "execution_count": 20,
     "metadata": {},
     "output_type": "execute_result"
    }
   ],
   "source": [
    "import nltk\n",
    "nltk.download('punkt')"
   ]
  },
  {
   "cell_type": "code",
   "execution_count": null,
   "metadata": {},
   "outputs": [],
   "source": []
  }
 ],
 "metadata": {
  "kernelspec": {
   "display_name": "Python 3",
   "language": "python",
   "name": "python3"
  },
  "language_info": {
   "codemirror_mode": {
    "name": "ipython",
    "version": 3
   },
   "file_extension": ".py",
   "mimetype": "text/x-python",
   "name": "python",
   "nbconvert_exporter": "python",
   "pygments_lexer": "ipython3",
   "version": "3.6.5"
  }
 },
 "nbformat": 4,
 "nbformat_minor": 2
}
